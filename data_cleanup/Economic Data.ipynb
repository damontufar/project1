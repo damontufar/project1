{
 "cells": [
  {
   "cell_type": "code",
   "execution_count": 40,
   "metadata": {},
   "outputs": [],
   "source": [
    "#Dependencies\n",
    "\n",
    "import requests\n",
    "import json\n",
    "import pandas as pd\n",
    "import os\n",
    "import numpy as np\n",
    "from config import api_key\n"
   ]
  },
  {
   "cell_type": "code",
   "execution_count": 41,
   "metadata": {},
   "outputs": [],
   "source": [
    "#Save config information\n",
    "url = \"https://www.inegi.org.mx/app/api/indicadores/desarrolladores/jsonxml/INDICATOR/\""
   ]
  },
  {
   "cell_type": "code",
   "execution_count": 46,
   "metadata": {},
   "outputs": [],
   "source": [
    "#Parameters\n",
    "\n",
    "#https://www.inegi.org.mx/servicios/api_indicadores.html > \"Constructor de Consultas\" > \"Indicadores\"\n",
    "\n",
    "id_indicator = \"5000000001\"\n",
    "language = \"es\"\n",
    "#geo_area = \"01\"\n",
    "recent_data = \"false\"\n",
    "data_base = \"BISE\""
   ]
  },
  {
   "cell_type": "code",
   "execution_count": 47,
   "metadata": {},
   "outputs": [],
   "source": [
    "#Build URL\n",
    "#Example URL https://www.inegi.org.mx/app/api/indicadores/desarrolladores/jsonxml/INDICATOR/5300000002/es/0700\n",
    "#/false/BISE/2.0/[Aquí va tu Token]?type=json\n",
    "\n",
    "query_url = f\"{url}{id_indicator}/{language}/{recent_data}/{data_base}/2.0/{api_key}?type=json\""
   ]
  },
  {
   "cell_type": "code",
   "execution_count": 44,
   "metadata": {},
   "outputs": [
    {
     "name": "stdout",
     "output_type": "stream",
     "text": [
      "{\n",
      "    \"Header\": {\n",
      "        \"Name\": \"Datos compactos BISE\",\n",
      "        \"Email\": \"atencion.usuarios@inegi.org.mx\"\n",
      "    },\n",
      "    \"Series\": [\n",
      "        {\n",
      "            \"INDICADOR\": \"5000000001\",\n",
      "            \"FREQ\": \"7\",\n",
      "            \"TOPIC\": \"257\",\n",
      "            \"UNIT\": \"518\",\n",
      "            \"NOTE\": \"379\",\n",
      "            \"SOURCE\": \"10,11,581,2946\",\n",
      "            \"LASTUPDATE\": null,\n",
      "            \"STATUS\": \"3\",\n",
      "            \"OBSERVATIONS\": [\n",
      "                {\n",
      "                    \"TIME_PERIOD\": \"1998\",\n",
      "                    \"OBS_VALUE\": \"39990.00000000000000000000\",\n",
      "                    \"OBS_EXCEPTION\": null,\n",
      "                    \"OBS_STATUS\": \"3\",\n",
      "                    \"OBS_SOURCE\": \"\",\n",
      "                    \"OBS_NOTE\": \"\",\n",
      "                    \"COBER_GEO\": \"07000001\"\n",
      "                },\n",
      "                {\n",
      "                    \"TIME_PERIOD\": \"2003\",\n",
      "                    \"OBS_VALUE\": \"43522.00000000000000000000\",\n",
      "                    \"OBS_EXCEPTION\": null,\n",
      "                    \"OBS_STATUS\": \"3\",\n",
      "                    \"OBS_SOURCE\": \"\",\n",
      "                    \"OBS_NOTE\": \"\",\n",
      "                    \"COBER_GEO\": \"07000001\"\n",
      "                },\n",
      "                {\n",
      "                    \"TIME_PERIOD\": \"2008\",\n",
      "                    \"OBS_VALUE\": \"54186.00000000000000000000\",\n",
      "                    \"OBS_EXCEPTION\": null,\n",
      "                    \"OBS_STATUS\": \"3\",\n",
      "                    \"OBS_SOURCE\": \"\",\n",
      "                    \"OBS_NOTE\": \"\",\n",
      "                    \"COBER_GEO\": \"07000001\"\n",
      "                },\n",
      "                {\n",
      "                    \"TIME_PERIOD\": \"2019\",\n",
      "                    \"OBS_VALUE\": \"67313.00000000000000000000\",\n",
      "                    \"OBS_EXCEPTION\": null,\n",
      "                    \"OBS_STATUS\": \"3\",\n",
      "                    \"OBS_SOURCE\": \"\",\n",
      "                    \"OBS_NOTE\": \"\",\n",
      "                    \"COBER_GEO\": \"07000001\"\n",
      "                }\n",
      "            ]\n",
      "        }\n",
      "    ]\n",
      "}\n"
     ]
    }
   ],
   "source": [
    "# Request data\n",
    "\n",
    "response = requests.get(query_url).json()\n",
    "print(json.dumps(response, indent = 4))"
   ]
  },
  {
   "cell_type": "code",
   "execution_count": 48,
   "metadata": {},
   "outputs": [
    {
     "data": {
      "text/plain": [
       "array([0.01, 0.02, 0.03, 0.04, 0.05, 0.06, 0.07, 0.08, 0.09, 0.1 , 0.11,\n",
       "       0.12, 0.13, 0.14, 0.15, 0.16, 0.17, 0.18, 0.19, 0.2 , 0.21, 0.22,\n",
       "       0.23, 0.24, 0.25, 0.26, 0.27, 0.28, 0.29, 0.3 , 0.31, 0.32])"
      ]
     },
     "execution_count": 48,
     "metadata": {},
     "output_type": "execute_result"
    }
   ],
   "source": [
    "np.arange(0.01, 0.33, 0.01)"
   ]
  },
  {
   "cell_type": "code",
   "execution_count": 45,
   "metadata": {},
   "outputs": [],
   "source": [
    "state_codes = \"01 02 03 04 05 06\".split()\n",
    "\n",
    "nr_merchants = []\n",
    "nr_employees = []\n",
    "\n",
    "for state in state_codes:\n",
    "    url = query_url + state_codes\n",
    "    response = requests.get(query_url).json()\n",
    "    nr_merchants.append(response[])\n",
    "    "
   ]
  },
  {
   "cell_type": "code",
   "execution_count": null,
   "metadata": {},
   "outputs": [],
   "source": []
  }
 ],
 "metadata": {
  "kernelspec": {
   "display_name": "Python [conda env:pythonData] *",
   "language": "python",
   "name": "conda-env-pythonData-py"
  },
  "language_info": {
   "codemirror_mode": {
    "name": "ipython",
    "version": 3
   },
   "file_extension": ".py",
   "mimetype": "text/x-python",
   "name": "python",
   "nbconvert_exporter": "python",
   "pygments_lexer": "ipython3",
   "version": "3.6.10"
  }
 },
 "nbformat": 4,
 "nbformat_minor": 4
}
