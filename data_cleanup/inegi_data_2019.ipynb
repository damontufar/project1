{
 "cells": [
  {
   "cell_type": "code",
   "execution_count": 1,
   "metadata": {},
   "outputs": [],
   "source": [
    "import numpy as np\n",
    "import pandas as pd\n",
    "import os"
   ]
  },
  {
   "cell_type": "code",
   "execution_count": 2,
   "metadata": {},
   "outputs": [
    {
     "name": "stdout",
     "output_type": "stream",
     "text": [
      "['129_ce2019_tlax_csv', '120_ce2019_oax_csv', '132_ce2019_zac_csv', '102_ce2019_bcs_csv', '105_ce2019_chih_csv', '117_ce2019_nac_csv', '107_ce2019_coah_csv', '109_ce2019_dgo_csv', '130_ce2019_ver_csv', '131_ce2019_yuc_csv', '110_ce2019_gro_csv', '104_ce2019_cdmx_csv', '122_ce2019_qro_csv', '106_ce2019_chis_csv', '111_ce2019_gto_csv', '114_ce2019_mex_csv', '128_ce2019_tamps_csv', '115_ce2019_mich_csv', '101_ce2019_bc_csv', '126_ce2019_son_csv', '116_ce2019_mor_csv', '113_ce2019_jal_csv', '103_ce2019_camp_csv', '100_ce2019_ags_csv', '123_ce2019_qroo_csv', '124_ce2019_sin_csv', '121_ce2019_pue_csv', '119_ce2019_nl_csv', '127_ce2019_tab_csv', '108_ce2019_col_csv', '125_ce2019_slp_csv', '112_ce2019_hgo_csv', '118_ce2019_nay_csv']\n"
     ]
    }
   ],
   "source": [
    "dir_list = os.listdir(os.path.join(\"Resources\", \"2019\"))\n",
    "try:\n",
    "    dir_list.remove(\".DS_Store\")\n",
    "except:\n",
    "    print(\"No Need to Remove\")\n",
    "print(dir_list)"
   ]
  },
  {
   "cell_type": "code",
   "execution_count": 3,
   "metadata": {},
   "outputs": [
    {
     "name": "stderr",
     "output_type": "stream",
     "text": [
      "/Users/dmontufar/opt/anaconda3/lib/python3.8/site-packages/IPython/core/interactiveshell.py:3146: DtypeWarning: Columns (1) have mixed types.Specify dtype option on import or set low_memory=False.\n",
      "  has_raised = await self.run_ast_nodes(code_ast.body, cell_name,\n"
     ]
    },
    {
     "name": "stdout",
     "output_type": "stream",
     "text": [
      "179317\n",
      "42950\n",
      "11343\n",
      "42960\n",
      "7293\n",
      "37788\n",
      "29268\n",
      "146551\n",
      "59272\n",
      "60934\n",
      "47412\n",
      "25021\n",
      "87121\n",
      "62331\n",
      "140127\n",
      "38955\n",
      "100968\n"
     ]
    },
    {
     "name": "stderr",
     "output_type": "stream",
     "text": [
      "/Users/dmontufar/opt/anaconda3/lib/python3.8/site-packages/IPython/core/interactiveshell.py:3146: DtypeWarning: Columns (1,2) have mixed types.Specify dtype option on import or set low_memory=False.\n",
      "  has_raised = await self.run_ast_nodes(code_ast.body, cell_name,\n"
     ]
    },
    {
     "name": "stdout",
     "output_type": "stream",
     "text": [
      "16904\n",
      "46146\n",
      "37604\n",
      "116070\n",
      "14778\n",
      "16140\n",
      "17519\n",
      "27946\n",
      "129801\n",
      "49217\n",
      "24477\n",
      "15643\n",
      "44231\n",
      "66979\n",
      "23290\n"
     ]
    }
   ],
   "source": [
    "df = pd.read_csv(os.path.join(\"Resources\", \"2019\", dir_list[0], \"conjunto_de_datos\", dir_list[0][4:-4]+\".csv\"))\n",
    "\n",
    "s = len(df)\n",
    "for folder in dir_list[1:]:\n",
    "    df_aux = pd.read_csv(os.path.join(\"Resources\", \"2019\", folder, \"conjunto_de_datos\", folder[4:-4]+\".csv\"))\n",
    "    a = len(df_aux)\n",
    "    df = pd.concat([df, df_aux])\n",
    "    s += a\n",
    "    print(a)"
   ]
  },
  {
   "cell_type": "code",
   "execution_count": 4,
   "metadata": {},
   "outputs": [
    {
     "name": "stdout",
     "output_type": "stream",
     "text": [
      "1812661\n",
      "23290\n"
     ]
    }
   ],
   "source": [
    "print(len(df))\n",
    "print(len(df_aux))"
   ]
  },
  {
   "cell_type": "code",
   "execution_count": 5,
   "metadata": {},
   "outputs": [
    {
     "name": "stdout",
     "output_type": "stream",
     "text": [
      "1812661\n"
     ]
    }
   ],
   "source": [
    "print(s)"
   ]
  },
  {
   "cell_type": "code",
   "execution_count": null,
   "metadata": {},
   "outputs": [],
   "source": [
    "write_path = os.path.join(\"Resources\", \"2019_data.csv\")\n",
    "df.to_csv(write_path)"
   ]
  },
  {
   "cell_type": "code",
   "execution_count": null,
   "metadata": {},
   "outputs": [],
   "source": []
  }
 ],
 "metadata": {
  "kernelspec": {
   "display_name": "Python 3",
   "language": "python",
   "name": "python3"
  },
  "language_info": {
   "codemirror_mode": {
    "name": "ipython",
    "version": 3
   },
   "file_extension": ".py",
   "mimetype": "text/x-python",
   "name": "python",
   "nbconvert_exporter": "python",
   "pygments_lexer": "ipython3",
   "version": "3.8.5"
  }
 },
 "nbformat": 4,
 "nbformat_minor": 4
}
