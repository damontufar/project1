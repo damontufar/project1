{
 "cells": [
  {
   "cell_type": "code",
   "execution_count": 1,
   "metadata": {},
   "outputs": [],
   "source": [
    "import numpy as np\n",
    "import pandas as pd\n",
    "import os"
   ]
  },
  {
   "cell_type": "code",
   "execution_count": 6,
   "metadata": {},
   "outputs": [
    {
     "name": "stdout",
     "output_type": "stream",
     "text": [
      "['129_ce2019_tlax_csv', '120_ce2019_oax_csv', '132_ce2019_zac_csv', '102_ce2019_bcs_csv', '105_ce2019_chih_csv', '117_ce2019_nac_csv', '107_ce2019_coah_csv', '109_ce2019_dgo_csv', '130_ce2019_ver_csv', '131_ce2019_yuc_csv', '110_ce2019_gro_csv', '104_ce2019_cdmx_csv', '122_ce2019_qro_csv', '106_ce2019_chis_csv', '111_ce2019_gto_csv', '114_ce2019_mex_csv', '128_ce2019_tamps_csv', '115_ce2019_mich_csv', '101_ce2019_bc_csv', '126_ce2019_son_csv', '116_ce2019_mor_csv', '113_ce2019_jal_csv', '103_ce2019_camp_csv', '100_ce2019_ags_csv', '123_ce2019_qroo_csv', '124_ce2019_sin_csv', '121_ce2019_pue_csv', '119_ce2019_nl_csv', '127_ce2019_tab_csv', '108_ce2019_col_csv', '125_ce2019_slp_csv', '112_ce2019_hgo_csv', '118_ce2019_nay_csv']\n"
     ]
    }
   ],
   "source": [
    "dir_list = os.listdir(os.path.join(\"Resources\", \"2019\"))\n",
    "try:\n",
    "    dir_list.remove(\".DS_Store\")\n",
    "except:\n",
    "    print(\"No Need to Remove\")\n",
    "print(dir_list)"
   ]
  },
  {
   "cell_type": "code",
   "execution_count": 3,
   "metadata": {},
   "outputs": [
    {
     "name": "stdout",
     "output_type": "stream",
     "text": [
      "2\n",
      "2\n",
      "2\n",
      "2\n",
      "2\n",
      "2\n",
      "2\n",
      "2\n",
      "2\n",
      "2\n",
      "2\n",
      "2\n",
      "2\n",
      "2\n",
      "2\n",
      "2\n",
      "2\n",
      "2\n",
      "2\n",
      "2\n",
      "2\n",
      "2\n",
      "2\n",
      "2\n",
      "2\n",
      "2\n",
      "2\n",
      "2\n",
      "2\n",
      "2\n",
      "2\n",
      "2\n"
     ]
    }
   ],
   "source": [
    "df = pd.read_csv(os.path.join(\"Resources\", \"2019\", dir_list[0], \"conjunto_de_datos\", dir_list[0][4:-4]+\".csv\"))\n",
    "\n",
    "s = len(df)\n",
    "for folder in dir_list[1:]:\n",
    "    df_aux = pd.read_csv(os.path.join(\"Resources\", \"2019\", folder, \"conjunto_de_datos\", folder[4:-4]+\".csv\"))\n",
    "    a = len(df_aux)\n",
    "    df = pd.concat([df, df_aux])\n",
    "    s += a\n",
    "    print(a)"
   ]
  },
  {
   "cell_type": "code",
   "execution_count": 4,
   "metadata": {},
   "outputs": [
    {
     "name": "stdout",
     "output_type": "stream",
     "text": [
      "66\n",
      "2\n"
     ]
    }
   ],
   "source": [
    "print(len(df))\n",
    "print(len(df_aux))"
   ]
  },
  {
   "cell_type": "code",
   "execution_count": 5,
   "metadata": {},
   "outputs": [
    {
     "name": "stdout",
     "output_type": "stream",
     "text": [
      "66\n"
     ]
    }
   ],
   "source": [
    "print(s)"
   ]
  },
  {
   "cell_type": "code",
   "execution_count": null,
   "metadata": {},
   "outputs": [],
   "source": [
    "write_path = os.path.join(\"Resources\", \"2019_data.csv\")\n",
    "df.to_csv(write_path)"
   ]
  },
  {
   "cell_type": "code",
   "execution_count": null,
   "metadata": {},
   "outputs": [],
   "source": []
  }
 ],
 "metadata": {
  "kernelspec": {
   "display_name": "Python 3",
   "language": "python",
   "name": "python3"
  },
  "language_info": {
   "codemirror_mode": {
    "name": "ipython",
    "version": 3
   },
   "file_extension": ".py",
   "mimetype": "text/x-python",
   "name": "python",
   "nbconvert_exporter": "python",
   "pygments_lexer": "ipython3",
   "version": "3.8.5"
  }
 },
 "nbformat": 4,
 "nbformat_minor": 4
}
